{
  "nbformat": 4,
  "nbformat_minor": 0,
  "metadata": {
    "colab": {
      "name": "Mental Health in Technology Industry Project (Jabari A).ipynb",
      "provenance": [],
      "collapsed_sections": [],
      "include_colab_link": true
    },
    "kernelspec": {
      "name": "python3",
      "display_name": "Python 3"
    },
    "language_info": {
      "name": "python"
    }
  },
  "cells": [
    {
      "cell_type": "markdown",
      "metadata": {
        "id": "view-in-github",
        "colab_type": "text"
      },
      "source": [
        "<a href=\"https://colab.research.google.com/github/Noahkandie/Mental-health-technology-project/blob/main/Mental_Health_in_Technology_Industry_Project_(Jabari_A).ipynb\" target=\"_parent\"><img src=\"https://colab.research.google.com/assets/colab-badge.svg\" alt=\"Open In Colab\"/></a>"
      ]
    },
    {
      "cell_type": "markdown",
      "metadata": {
        "id": "wmeRwQbpwS41"
      },
      "source": [
        "**Loading Data and Reading data**"
      ]
    },
    {
      "cell_type": "code",
      "metadata": {
        "id": "ssSpRsFLwOm9"
      },
      "source": [
        "import pandas as pd\n",
        "import numpy as np\n",
        "import seaborn as sns\n",
        "import matplotlib.pyplot as plt\n",
        "\n",
        "url='/content/OSMI 2020 Mental Health in Tech Survey Results.csv'\n",
        "df=pd.read_csv(url)"
      ],
      "execution_count": null,
      "outputs": []
    },
    {
      "cell_type": "markdown",
      "metadata": {
        "id": "y2M0rO38wq6c"
      },
      "source": [
        "# Data Exploration"
      ]
    },
    {
      "cell_type": "code",
      "metadata": {
        "colab": {
          "base_uri": "https://localhost:8080/"
        },
        "id": "GkH_riRtwdOW",
        "outputId": "383c7349-8fb2-43ef-89f2-01f23537e057"
      },
      "source": [
        "df.info()"
      ],
      "execution_count": null,
      "outputs": [
        {
          "output_type": "stream",
          "text": [
            "<class 'pandas.core.frame.DataFrame'>\n",
            "RangeIndex: 180 entries, 0 to 179\n",
            "Columns: 120 entries, # to What US state or territory do you *work* in?\n",
            "dtypes: float64(33), int64(9), object(78)\n",
            "memory usage: 168.9+ KB\n"
          ],
          "name": "stdout"
        }
      ]
    },
    {
      "cell_type": "code",
      "metadata": {
        "id": "MBtiv0buxbuX",
        "colab": {
          "base_uri": "https://localhost:8080/"
        },
        "outputId": "2bc66389-c8a7-4c10-ed58-cc7a98fa25fe"
      },
      "source": [
        "df.shape"
      ],
      "execution_count": null,
      "outputs": [
        {
          "output_type": "execute_result",
          "data": {
            "text/plain": [
              "(180, 120)"
            ]
          },
          "metadata": {
            "tags": []
          },
          "execution_count": 3
        }
      ]
    },
    {
      "cell_type": "markdown",
      "metadata": {
        "id": "jcwmISpmGdhz"
      },
      "source": [
        "*  The dataset is a survey in 2020 that contains 120 columns\n",
        "*  The data is from Open Sourcing Mental Illness, a non-profit corporation deddcated to create awareness and educate on mental illness in our community.\n",
        "\n"
      ]
    },
    {
      "cell_type": "code",
      "metadata": {
        "id": "j9TDPdTNwxr4",
        "colab": {
          "base_uri": "https://localhost:8080/"
        },
        "outputId": "a4d2043a-8fc1-4753-da94-85cbecc6fe9b"
      },
      "source": [
        "df.isnull().sum().count()"
      ],
      "execution_count": null,
      "outputs": [
        {
          "output_type": "execute_result",
          "data": {
            "text/plain": [
              "120"
            ]
          },
          "metadata": {
            "tags": []
          },
          "execution_count": 4
        }
      ]
    },
    {
      "cell_type": "markdown",
      "metadata": {
        "id": "9AnPOu-bxvap"
      },
      "source": [
        "# Data Cleaning"
      ]
    },
    {
      "cell_type": "markdown",
      "metadata": {
        "id": "5wkC-rYwHuy7"
      },
      "source": [
        "Based on our objective, the following columns were dropped:"
      ]
    },
    {
      "cell_type": "code",
      "metadata": {
        "id": "OlUTt9SNSZwa",
        "colab": {
          "base_uri": "https://localhost:8080/",
          "height": 508
        },
        "outputId": "1f007722-b1cc-4f7c-f775-a84b3d8ed068"
      },
      "source": [
        "df.drop(columns=[\"#\",\"How many employees does your company or organization have?\",'Why or why not?','Other', 'Other.1', 'Other.2', 'Other.3',\n",
        "\"Is your anonymity protected if you choose to take advantage of mental health or substance abuse treatment resources provided by your employer?\",\"Would you feel more comfortable talking to your coworkers about your physical health or your mental health?\",\n",
        "\"Would you feel comfortable discussing a mental health issue with your direct supervisor(s)?\",\"Have you ever discussed your mental health with your employer?\",\"Describe the conversation you had with your employer about your mental health, including their reactions and what actions were taken to address your mental health issue/questions.\",\n",
        "\"Would you feel comfortable discussing a mental health issue with your coworkers?\",\"Have you ever discussed your mental health with coworkers?\",\"Describe the conversation with coworkers you had about your mental health including their reactions.\",\"Have you ever had a coworker discuss their or another coworker's mental health with you?\",\"Describe the conversation your coworker had with you about their mental health (please do not use names).\",\n",
        "\"Do you know local or online resources to seek help for a mental health issue?\",\"If you have been diagnosed or treated for a mental health disorder, do you ever reveal this to clients or business contacts?\",\"If you have revealed a mental health disorder to a client or business contact, how has this affected you or the relationship?\",\n",
        "\"If you have been diagnosed or treated for a mental health disorder, do you ever reveal this to coworkers or employees?\",'Do you have medical coverage (private insurance or state-provided) that includes treatment of mental health disorders?',\"If you have revealed a mental health disorder to a coworker or employee, how has this impacted you or the relationship?\",\"Do you believe your productivity is ever affected by a mental health issue?\",\"If yes, what percentage of your work time (time performing primary or secondary job functions) is affected by a mental health issue?\",\n",
        "\"*Do you have previous employers?*\",\"Was your employer primarily a tech company/organization?\",\"Have your previous employers provided mental health benefits?\",\"Were you aware of the options for mental health care provided by your previous employers?\",\"Did your previous employers ever formally discuss mental health (as part of a wellness campaign or other official communication)?\",\"Did your previous employers provide resources to learn more about mental health disorders and how to seek help?\",\n",
        "\"Was your anonymity protected if you chose to take advantage of mental health or substance abuse treatment resources with previous employers?\",\"Would you have felt more comfortable talking to your previous employer about your physical health or your mental health?\",\"Would you have been willing to discuss your mental health with your direct supervisor(s)?\",\"Did you ever discuss your mental health with your previous employer?\",\"Describe the conversation you had with your previous employer about your mental health, including their reactions and actions taken to address your mental health issue/questions.\",\n",
        "\"Would you have been willing to discuss your mental health with your coworkers at previous employers?\",\"Did you ever discuss your mental health with a previous coworker(s)?\",\"Describe the conversation you had with your previous coworkers about your mental health including their reactions.\",\"Did you ever have a previous coworker discuss their or another coworker's mental health with you?\",\"Describe the conversation your coworker had with you about their mental health (please do not use names)..1\",\"Overall, how much importance did your previous employer place on physical health?\",\"Overall, how much importance did your previous employer place on mental health?\",\"What US state or territory do you *work* in?\",\"If there is anything else you would like to tell us that has not been covered by the survey questions, please use this space to do so.\",\"Would you be willing to talk to one of us more extensively about your experiences with mental health issues in the tech industry? (Note that all interview responses would be used _anonymously_ and only with your permission.)\"],inplace=True)\n",
        "df.head(1)"
      ],
      "execution_count": null,
      "outputs": [
        {
          "output_type": "execute_result",
          "data": {
            "text/html": [
              "<div>\n",
              "<style scoped>\n",
              "    .dataframe tbody tr th:only-of-type {\n",
              "        vertical-align: middle;\n",
              "    }\n",
              "\n",
              "    .dataframe tbody tr th {\n",
              "        vertical-align: top;\n",
              "    }\n",
              "\n",
              "    .dataframe thead th {\n",
              "        text-align: right;\n",
              "    }\n",
              "</style>\n",
              "<table border=\"1\" class=\"dataframe\">\n",
              "  <thead>\n",
              "    <tr style=\"text-align: right;\">\n",
              "      <th></th>\n",
              "      <th>*Are you self-employed?*</th>\n",
              "      <th>Is your employer primarily a tech company/organization?</th>\n",
              "      <th>Is your primary role within your company related to tech/IT?</th>\n",
              "      <th>Does your employer provide mental health benefits as part of healthcare coverage?</th>\n",
              "      <th>Do you know the options for mental health care available under your employer-provided health coverage?</th>\n",
              "      <th>Has your employer ever formally discussed mental health (for example, as part of a wellness campaign or other official communication)?</th>\n",
              "      <th>Does your employer offer resources to learn more about mental health disorders and options for seeking help?</th>\n",
              "      <th>If a mental health issue prompted you to request a medical leave from work, how easy or difficult would it be to ask for that leave?</th>\n",
              "      <th>Overall, how much importance does your employer place on physical health?</th>\n",
              "      <th>Overall, how much importance does your employer place on mental health?</th>\n",
              "      <th>Do you *currently* have a mental health disorder?</th>\n",
              "      <th>Have you ever been *diagnosed* with a mental health disorder?</th>\n",
              "      <th>Anxiety Disorder (Generalized, Social, Phobia, etc)</th>\n",
              "      <th>Mood Disorder (Depression, Bipolar Disorder, etc)</th>\n",
              "      <th>Psychotic Disorder (Schizophrenia, Schizoaffective, etc)</th>\n",
              "      <th>Eating Disorder (Anorexia, Bulimia, etc)</th>\n",
              "      <th>Attention Deficit Hyperactivity Disorder</th>\n",
              "      <th>Personality Disorder (Borderline, Antisocial, Paranoid, etc)</th>\n",
              "      <th>Obsessive-Compulsive Disorder</th>\n",
              "      <th>Post-Traumatic Stress Disorder</th>\n",
              "      <th>Stress Response Syndromes</th>\n",
              "      <th>Dissociative Disorder</th>\n",
              "      <th>Substance Use Disorder</th>\n",
              "      <th>Addictive Disorder</th>\n",
              "      <th>Anxiety Disorder (Generalized, Social, Phobia, etc).1</th>\n",
              "      <th>Mood Disorder (Depression, Bipolar Disorder, etc).1</th>\n",
              "      <th>Psychotic Disorder (Schizophrenia, Schizoaffective, etc).1</th>\n",
              "      <th>Eating Disorder (Anorexia, Bulimia, etc).1</th>\n",
              "      <th>Attention Deficit Hyperactivity Disorder.1</th>\n",
              "      <th>Personality Disorder (Borderline, Antisocial, Paranoid, etc).1</th>\n",
              "      <th>Obsessive-Compulsive Disorder.1</th>\n",
              "      <th>Post-traumatic Stress Disorder</th>\n",
              "      <th>Stress Response Syndromes.1</th>\n",
              "      <th>Dissociative Disorder.1</th>\n",
              "      <th>Substance Use Disorder.1</th>\n",
              "      <th>Addictive Disorder.1</th>\n",
              "      <th>Anxiety Disorder (Generalized, Social, Phobia, etc).2</th>\n",
              "      <th>Mood Disorder (Depression, Bipolar Disorder, etc).2</th>\n",
              "      <th>Psychotic Disorder (Schizophrenia, Schizoaffective, etc).2</th>\n",
              "      <th>Eating Disorder (Anorexia, Bulimia, etc).2</th>\n",
              "      <th>Attention Deficit Hyperactivity Disorder.2</th>\n",
              "      <th>Personality Disorder (Borderline, Antisocial, Paranoid, etc).2</th>\n",
              "      <th>Obsessive-Compulsive Disorder.2</th>\n",
              "      <th>Post-traumatic Stress Disorder.1</th>\n",
              "      <th>Stress Response Syndromes.2</th>\n",
              "      <th>Dissociative Disorder.2</th>\n",
              "      <th>Substance Use Disorder.2</th>\n",
              "      <th>Addictive Disorder.2</th>\n",
              "      <th>Have you had a mental health disorder in the past?</th>\n",
              "      <th>Have you ever sought treatment for a mental health disorder from a mental health professional?</th>\n",
              "      <th>Do you have a family history of mental illness?</th>\n",
              "      <th>If you have a mental health disorder, how often do you feel that it interferes with your work *when being treated effectively?*</th>\n",
              "      <th>If you have a mental health disorder, how often do you feel that it interferes with your work *when* _*NOT*_* being treated effectively (i.e., when you are experiencing symptoms)?*</th>\n",
              "      <th>Have your observations of how another individual who discussed a mental health issue made you less likely to reveal a mental health issue yourself in your current workplace?</th>\n",
              "      <th>How willing would you be to share with friends and family that you have a mental illness?</th>\n",
              "      <th>Would you be willing to bring up a physical health issue with a potential employer in an interview?</th>\n",
              "      <th>Would you bring up your *mental* health with a potential employer in an interview?</th>\n",
              "      <th>Why or why not?.1</th>\n",
              "      <th>Are you openly identified at work as a person with a mental health issue?</th>\n",
              "      <th>Has being identified as a person with a mental health issue affected your career?</th>\n",
              "      <th>How has it affected your career?</th>\n",
              "      <th>If they knew you suffered from a mental health disorder, how do you think that your team members/co-workers would react?</th>\n",
              "      <th>Have you observed or experienced an *unsupportive or badly handled response* to a mental health issue in your current or previous workplace?</th>\n",
              "      <th>Describe the circumstances of the badly handled or unsupportive response.</th>\n",
              "      <th>Have you observed or experienced a *supportive or well handled response* to a mental health issue in your current or previous workplace?</th>\n",
              "      <th>Describe the circumstances of the supportive or well handled response.</th>\n",
              "      <th>Overall, how well do you think the tech industry supports employees with mental health issues?</th>\n",
              "      <th>Briefly describe what you think the industry as a whole and/or employers could do to improve mental health support for employees.</th>\n",
              "      <th>What is your age?</th>\n",
              "      <th>What is your gender?</th>\n",
              "      <th>What country do you *live* in?</th>\n",
              "      <th>What US state or territory do you *live* in?</th>\n",
              "      <th>What is your race?</th>\n",
              "      <th>What country do you *work* in?</th>\n",
              "    </tr>\n",
              "  </thead>\n",
              "  <tbody>\n",
              "    <tr>\n",
              "      <th>0</th>\n",
              "      <td>1</td>\n",
              "      <td>NaN</td>\n",
              "      <td>NaN</td>\n",
              "      <td>NaN</td>\n",
              "      <td>NaN</td>\n",
              "      <td>NaN</td>\n",
              "      <td>NaN</td>\n",
              "      <td>NaN</td>\n",
              "      <td>NaN</td>\n",
              "      <td>NaN</td>\n",
              "      <td>Don't Know</td>\n",
              "      <td>NaN</td>\n",
              "      <td>NaN</td>\n",
              "      <td>NaN</td>\n",
              "      <td>NaN</td>\n",
              "      <td>NaN</td>\n",
              "      <td>NaN</td>\n",
              "      <td>NaN</td>\n",
              "      <td>NaN</td>\n",
              "      <td>NaN</td>\n",
              "      <td>NaN</td>\n",
              "      <td>NaN</td>\n",
              "      <td>NaN</td>\n",
              "      <td>NaN</td>\n",
              "      <td>NaN</td>\n",
              "      <td>NaN</td>\n",
              "      <td>NaN</td>\n",
              "      <td>NaN</td>\n",
              "      <td>NaN</td>\n",
              "      <td>NaN</td>\n",
              "      <td>NaN</td>\n",
              "      <td>NaN</td>\n",
              "      <td>NaN</td>\n",
              "      <td>NaN</td>\n",
              "      <td>NaN</td>\n",
              "      <td>NaN</td>\n",
              "      <td>NaN</td>\n",
              "      <td>NaN</td>\n",
              "      <td>NaN</td>\n",
              "      <td>NaN</td>\n",
              "      <td>NaN</td>\n",
              "      <td>NaN</td>\n",
              "      <td>NaN</td>\n",
              "      <td>NaN</td>\n",
              "      <td>NaN</td>\n",
              "      <td>NaN</td>\n",
              "      <td>NaN</td>\n",
              "      <td>NaN</td>\n",
              "      <td>Don't Know</td>\n",
              "      <td>0</td>\n",
              "      <td>Yes</td>\n",
              "      <td>Not applicable to me</td>\n",
              "      <td>Sometimes</td>\n",
              "      <td>NaN</td>\n",
              "      <td>5</td>\n",
              "      <td>Maybe</td>\n",
              "      <td>Maybe</td>\n",
              "      <td>Same reason. But I believe this would have a g...</td>\n",
              "      <td>0</td>\n",
              "      <td>NaN</td>\n",
              "      <td>NaN</td>\n",
              "      <td>5</td>\n",
              "      <td>Maybe/Not sure</td>\n",
              "      <td>NaN</td>\n",
              "      <td>Yes, I experienced</td>\n",
              "      <td>NaN</td>\n",
              "      <td>2</td>\n",
              "      <td>NaN</td>\n",
              "      <td>45</td>\n",
              "      <td>Male</td>\n",
              "      <td>United States of America</td>\n",
              "      <td>Connecticut</td>\n",
              "      <td>White</td>\n",
              "      <td>United States of America</td>\n",
              "    </tr>\n",
              "  </tbody>\n",
              "</table>\n",
              "</div>"
            ],
            "text/plain": [
              "   *Are you self-employed?*  ...  What country do you *work* in?\n",
              "0                         1  ...        United States of America\n",
              "\n",
              "[1 rows x 74 columns]"
            ]
          },
          "metadata": {
            "tags": []
          },
          "execution_count": 5
        }
      ]
    },
    {
      "cell_type": "code",
      "metadata": {
        "id": "dlDTpQh-5caY",
        "colab": {
          "base_uri": "https://localhost:8080/"
        },
        "outputId": "80c810d1-a4b1-4d67-9859-2116b0e5d51a"
      },
      "source": [
        "df.shape"
      ],
      "execution_count": null,
      "outputs": [
        {
          "output_type": "execute_result",
          "data": {
            "text/plain": [
              "(180, 74)"
            ]
          },
          "metadata": {
            "tags": []
          },
          "execution_count": 6
        }
      ]
    },
    {
      "cell_type": "code",
      "metadata": {
        "id": "FDHWGcxDuE7d",
        "colab": {
          "base_uri": "https://localhost:8080/",
          "height": 457
        },
        "outputId": "a101cf28-1993-464e-cb04-ff7e87ee7db5"
      },
      "source": [
        "df.rename(columns={'*Are you self-employed?*':'employment_status','Do you know the options for mental health care available under your employer-provided health coverage?':'benefits',\"Is your employer primarily a tech company/organization?\":\"tech_company\",\"Is your primary role within your company related to tech/IT?\":\"primary_role\",\"Does your employer provide mental health benefits as part of healthcare coverage?\":\"benefits\",\"Has your employer ever formally discussed mental health (for example, as part of a wellness campaign or other official communication)?\":\"discussed_mh\",\"Does your employer offer resources to learn more about mental health disorders and options for seeking help?\":\"resources\",\n",
        "\"If a mental health issue prompted you to request a medical leave from work, how easy or difficult would it be to ask for that leave?\":\"leave\",\"Overall, how much importance does your employer place on physical health?\":\"employer_ph\",\"Overall, how much importance does your employer place on mental health?\":\"employer_mh_importance\",\n",
        "\"Do you *currently* have a mental health disorder?\":\"mh_current\",\"Have you ever been *diagnosed* with a mental health disorder?\":\"diagnosis_mh\",\"*What disorder(s) have you been diagnosed with?*\":\"disorders_diagnosed\",\"*If possibly, what disorder(s) do you believe you have?*\":\"disorder_believe\",\"Have you had a mental health disorder in the past?\":\"past_disorders\",\"Have you ever sought treatment for a mental health disorder from a mental health professional?\":\"sought_treatment\",\"Do you have a family history of mental illness?\":\"family_history\",\"If you have a mental health disorder, how often do you feel that it interferes with your work *when being treated effectively?*\":\"how often do you feel that it interferes with your work when being treated effectively\",\"If you have a mental health disorder, how often do you feel that it interferes with your work *when* _*NOT*_* being treated effectively (i.e., when you are experiencing symptoms)?*\":\"how often do you feel that it interferes with your work when not being treated effectively\",\"Have your observations of how another individual who discussed a mental health issue made you less likely to reveal a mental health issue yourself in your current workplace?\":\"observations who discussed a mental health made you less likely to reveal a mental in your current workplace\",\n",
        "\"How wilm ling would you be to share with friends and family that you have a mental illness?\":\"family_mh\",\"Would you be willing to bring up a physical health issue with a potential employer in an interview?\":\"bring up a physical health issue with a potential employer in an interview\",\"Why or why not?\":\"Why or why not\",\"Would you bring up your *mental* health with a potential employer in an interview?\":\"bring up your mental health with a potential employer in an interview\",\"Why or why not?.1\":\"Why or why not\",\"Are you openly identified at work as a person with a mental health issue?\":\"identify_work_mh\",\"Has being identified as a person with a mental health issue affected your career?\":\"mh_career\",\"How has it affected your career?\":\"affect_areer\",\n",
        "\"If they knew you suffered from a mental health disorder, how do you think that your team members/co-workers would react?\":\"coworker_react\",\"Have you observed or experienced a *supportive or well handled response* to a mental health issue in your current or previous workplace?\":\"well_handled_response\",\"What is your age?\":\"age\",\"What is your gender?\":\"gender\",\"What country do you *live* in?\":\"country\",\"What US state or territory do you *live* in?\":\"state\",\"What is your race?\":\"race\",\"What country do you *work* in?\":\"country_work\"},inplace=True)\n",
        "df.head(1)"
      ],
      "execution_count": null,
      "outputs": [
        {
          "output_type": "execute_result",
          "data": {
            "text/html": [
              "<div>\n",
              "<style scoped>\n",
              "    .dataframe tbody tr th:only-of-type {\n",
              "        vertical-align: middle;\n",
              "    }\n",
              "\n",
              "    .dataframe tbody tr th {\n",
              "        vertical-align: top;\n",
              "    }\n",
              "\n",
              "    .dataframe thead th {\n",
              "        text-align: right;\n",
              "    }\n",
              "</style>\n",
              "<table border=\"1\" class=\"dataframe\">\n",
              "  <thead>\n",
              "    <tr style=\"text-align: right;\">\n",
              "      <th></th>\n",
              "      <th>employment_status</th>\n",
              "      <th>tech_company</th>\n",
              "      <th>primary_role</th>\n",
              "      <th>benefits</th>\n",
              "      <th>benefits</th>\n",
              "      <th>discussed_mh</th>\n",
              "      <th>resources</th>\n",
              "      <th>leave</th>\n",
              "      <th>employer_ph</th>\n",
              "      <th>employer_mh_importance</th>\n",
              "      <th>mh_current</th>\n",
              "      <th>diagnosis_mh</th>\n",
              "      <th>Anxiety Disorder (Generalized, Social, Phobia, etc)</th>\n",
              "      <th>Mood Disorder (Depression, Bipolar Disorder, etc)</th>\n",
              "      <th>Psychotic Disorder (Schizophrenia, Schizoaffective, etc)</th>\n",
              "      <th>Eating Disorder (Anorexia, Bulimia, etc)</th>\n",
              "      <th>Attention Deficit Hyperactivity Disorder</th>\n",
              "      <th>Personality Disorder (Borderline, Antisocial, Paranoid, etc)</th>\n",
              "      <th>Obsessive-Compulsive Disorder</th>\n",
              "      <th>Post-Traumatic Stress Disorder</th>\n",
              "      <th>Stress Response Syndromes</th>\n",
              "      <th>Dissociative Disorder</th>\n",
              "      <th>Substance Use Disorder</th>\n",
              "      <th>Addictive Disorder</th>\n",
              "      <th>Anxiety Disorder (Generalized, Social, Phobia, etc).1</th>\n",
              "      <th>Mood Disorder (Depression, Bipolar Disorder, etc).1</th>\n",
              "      <th>Psychotic Disorder (Schizophrenia, Schizoaffective, etc).1</th>\n",
              "      <th>Eating Disorder (Anorexia, Bulimia, etc).1</th>\n",
              "      <th>Attention Deficit Hyperactivity Disorder.1</th>\n",
              "      <th>Personality Disorder (Borderline, Antisocial, Paranoid, etc).1</th>\n",
              "      <th>Obsessive-Compulsive Disorder.1</th>\n",
              "      <th>Post-traumatic Stress Disorder</th>\n",
              "      <th>Stress Response Syndromes.1</th>\n",
              "      <th>Dissociative Disorder.1</th>\n",
              "      <th>Substance Use Disorder.1</th>\n",
              "      <th>Addictive Disorder.1</th>\n",
              "      <th>Anxiety Disorder (Generalized, Social, Phobia, etc).2</th>\n",
              "      <th>Mood Disorder (Depression, Bipolar Disorder, etc).2</th>\n",
              "      <th>Psychotic Disorder (Schizophrenia, Schizoaffective, etc).2</th>\n",
              "      <th>Eating Disorder (Anorexia, Bulimia, etc).2</th>\n",
              "      <th>Attention Deficit Hyperactivity Disorder.2</th>\n",
              "      <th>Personality Disorder (Borderline, Antisocial, Paranoid, etc).2</th>\n",
              "      <th>Obsessive-Compulsive Disorder.2</th>\n",
              "      <th>Post-traumatic Stress Disorder.1</th>\n",
              "      <th>Stress Response Syndromes.2</th>\n",
              "      <th>Dissociative Disorder.2</th>\n",
              "      <th>Substance Use Disorder.2</th>\n",
              "      <th>Addictive Disorder.2</th>\n",
              "      <th>past_disorders</th>\n",
              "      <th>sought_treatment</th>\n",
              "      <th>family_history</th>\n",
              "      <th>how often do you feel that it interferes with your work when being treated effectively</th>\n",
              "      <th>how often do you feel that it interferes with your work when not being treated effectively</th>\n",
              "      <th>observations who discussed a mental health made you less likely to reveal a mental in your current workplace</th>\n",
              "      <th>How willing would you be to share with friends and family that you have a mental illness?</th>\n",
              "      <th>bring up a physical health issue with a potential employer in an interview</th>\n",
              "      <th>bring up your mental health with a potential employer in an interview</th>\n",
              "      <th>Why or why not</th>\n",
              "      <th>identify_work_mh</th>\n",
              "      <th>mh_career</th>\n",
              "      <th>affect_areer</th>\n",
              "      <th>coworker_react</th>\n",
              "      <th>Have you observed or experienced an *unsupportive or badly handled response* to a mental health issue in your current or previous workplace?</th>\n",
              "      <th>Describe the circumstances of the badly handled or unsupportive response.</th>\n",
              "      <th>well_handled_response</th>\n",
              "      <th>Describe the circumstances of the supportive or well handled response.</th>\n",
              "      <th>Overall, how well do you think the tech industry supports employees with mental health issues?</th>\n",
              "      <th>Briefly describe what you think the industry as a whole and/or employers could do to improve mental health support for employees.</th>\n",
              "      <th>age</th>\n",
              "      <th>gender</th>\n",
              "      <th>country</th>\n",
              "      <th>state</th>\n",
              "      <th>race</th>\n",
              "      <th>country_work</th>\n",
              "    </tr>\n",
              "  </thead>\n",
              "  <tbody>\n",
              "    <tr>\n",
              "      <th>0</th>\n",
              "      <td>1</td>\n",
              "      <td>NaN</td>\n",
              "      <td>NaN</td>\n",
              "      <td>NaN</td>\n",
              "      <td>NaN</td>\n",
              "      <td>NaN</td>\n",
              "      <td>NaN</td>\n",
              "      <td>NaN</td>\n",
              "      <td>NaN</td>\n",
              "      <td>NaN</td>\n",
              "      <td>Don't Know</td>\n",
              "      <td>NaN</td>\n",
              "      <td>NaN</td>\n",
              "      <td>NaN</td>\n",
              "      <td>NaN</td>\n",
              "      <td>NaN</td>\n",
              "      <td>NaN</td>\n",
              "      <td>NaN</td>\n",
              "      <td>NaN</td>\n",
              "      <td>NaN</td>\n",
              "      <td>NaN</td>\n",
              "      <td>NaN</td>\n",
              "      <td>NaN</td>\n",
              "      <td>NaN</td>\n",
              "      <td>NaN</td>\n",
              "      <td>NaN</td>\n",
              "      <td>NaN</td>\n",
              "      <td>NaN</td>\n",
              "      <td>NaN</td>\n",
              "      <td>NaN</td>\n",
              "      <td>NaN</td>\n",
              "      <td>NaN</td>\n",
              "      <td>NaN</td>\n",
              "      <td>NaN</td>\n",
              "      <td>NaN</td>\n",
              "      <td>NaN</td>\n",
              "      <td>NaN</td>\n",
              "      <td>NaN</td>\n",
              "      <td>NaN</td>\n",
              "      <td>NaN</td>\n",
              "      <td>NaN</td>\n",
              "      <td>NaN</td>\n",
              "      <td>NaN</td>\n",
              "      <td>NaN</td>\n",
              "      <td>NaN</td>\n",
              "      <td>NaN</td>\n",
              "      <td>NaN</td>\n",
              "      <td>NaN</td>\n",
              "      <td>Don't Know</td>\n",
              "      <td>0</td>\n",
              "      <td>Yes</td>\n",
              "      <td>Not applicable to me</td>\n",
              "      <td>Sometimes</td>\n",
              "      <td>NaN</td>\n",
              "      <td>5</td>\n",
              "      <td>Maybe</td>\n",
              "      <td>Maybe</td>\n",
              "      <td>Same reason. But I believe this would have a g...</td>\n",
              "      <td>0</td>\n",
              "      <td>NaN</td>\n",
              "      <td>NaN</td>\n",
              "      <td>5</td>\n",
              "      <td>Maybe/Not sure</td>\n",
              "      <td>NaN</td>\n",
              "      <td>Yes, I experienced</td>\n",
              "      <td>NaN</td>\n",
              "      <td>2</td>\n",
              "      <td>NaN</td>\n",
              "      <td>45</td>\n",
              "      <td>Male</td>\n",
              "      <td>United States of America</td>\n",
              "      <td>Connecticut</td>\n",
              "      <td>White</td>\n",
              "      <td>United States of America</td>\n",
              "    </tr>\n",
              "  </tbody>\n",
              "</table>\n",
              "</div>"
            ],
            "text/plain": [
              "   employment_status  tech_company  ...   race              country_work\n",
              "0                  1           NaN  ...  White  United States of America\n",
              "\n",
              "[1 rows x 74 columns]"
            ]
          },
          "metadata": {
            "tags": []
          },
          "execution_count": 7
        }
      ]
    },
    {
      "cell_type": "code",
      "metadata": {
        "id": "qEiNR-J-VbOk",
        "colab": {
          "base_uri": "https://localhost:8080/"
        },
        "outputId": "d745b4e3-21e4-4191-efbd-65b2b17d1bfd"
      },
      "source": [
        "df['gender'].unique()"
      ],
      "execution_count": null,
      "outputs": [
        {
          "output_type": "execute_result",
          "data": {
            "text/plain": [
              "array(['Male', 'female', 'Female', 'F', 'f', nan, 'male', 'mail', 'M',\n",
              "       'm', 'Woman', 'FEMALE', 'female, she/her', 'mostly male',\n",
              "       'cisgender male', 'MAle'], dtype=object)"
            ]
          },
          "metadata": {
            "tags": []
          },
          "execution_count": 8
        }
      ]
    },
    {
      "cell_type": "code",
      "metadata": {
        "id": "FaSXBdb5VLUU"
      },
      "source": [
        "# cleaning gender column\n",
        "df['gender']=np.where(df['gender'] =='male','Male', df['gender'])\n",
        "df['gender']=np.where(df['gender'] =='m', 'Male', df['gender'])\n",
        "df['gender']=np.where(df['gender'] =='M', 'Male', df['gender'])\n",
        "df['gender']=np.where(df['gender'] =='Male ','Male', df['gender'])\n",
        "df['gender']=np.where(df['gender'] =='mail','Male', df['gender'])\n",
        "df['gender']=np.where(df['gender'] =='MALE','Male', df['gender'])\n",
        "df['gender']=np.where(df['gender'] =='MAle','Male', df['gender'])\n",
        "df['gender']=np.where(df['gender'] =='cisgender male','Male', df['gender'])\n",
        "df['gender']=np.where(df['gender'] =='mostly male','Male', df['gender'])\n",
        "\n",
        "df['gender']=np.where(df['gender']=='female','Female',df['gender'])\n",
        "df['gender']=np.where(df['gender']=='f','Female',df['gender'])\n",
        "df['gender']=np.where(df['gender']=='F','Female',df['gender'])\n",
        "df['gender']=np.where(df['gender']=='FEMALE','Female',df['gender'])\n",
        "df['gender']=np.where(df['gender']=='Non-binary','Female',df['gender'])\n",
        "df['gender']=np.where(df['gender']=='cis woman','Female',df['gender'])\n",
        "df['gender']=np.where(df['gender']=='woman','Female',df['gender'])\n",
        "\n",
        "df['gender']=np.where(df['gender']=='female, she/her','Female',df['gender'])\n",
        "df['gender']=np.where(df['gender']=='Female','Female',df['gender'])\n",
        "df['gender']=np.where(df['gender']=='Female','Woman',df['gender'])"
      ],
      "execution_count": null,
      "outputs": []
    },
    {
      "cell_type": "code",
      "metadata": {
        "id": "QqRNK-o0VK9U",
        "colab": {
          "base_uri": "https://localhost:8080/"
        },
        "outputId": "d7d55c97-9c16-41c1-c049-28f9a2e1a379"
      },
      "source": [
        "df['gender'].value_counts()"
      ],
      "execution_count": null,
      "outputs": [
        {
          "output_type": "execute_result",
          "data": {
            "text/plain": [
              "Male     116\n",
              "Woman     62\n",
              "Name: gender, dtype: int64"
            ]
          },
          "metadata": {
            "tags": []
          },
          "execution_count": 10
        }
      ]
    },
    {
      "cell_type": "code",
      "metadata": {
        "id": "lboVlmrMYlXa",
        "colab": {
          "base_uri": "https://localhost:8080/"
        },
        "outputId": "ba94af22-f5c0-48c7-b38d-fa76466b61fd"
      },
      "source": [
        "df['race'].unique()"
      ],
      "execution_count": null,
      "outputs": [
        {
          "output_type": "execute_result",
          "data": {
            "text/plain": [
              "array(['White', nan, 'Asian', 'More than one of the above',\n",
              "       'I prefer not to answer', 'Black or African American'],\n",
              "      dtype=object)"
            ]
          },
          "metadata": {
            "tags": []
          },
          "execution_count": 11
        }
      ]
    },
    {
      "cell_type": "markdown",
      "metadata": {
        "id": "o_q307oIzyKn"
      },
      "source": [
        "# Data Analysis"
      ]
    },
    {
      "cell_type": "code",
      "metadata": {
        "id": "5TLIyaFT0tPI",
        "colab": {
          "base_uri": "https://localhost:8080/"
        },
        "outputId": "62bad922-3f33-46b8-a361-31821040f47c"
      },
      "source": [
        "df['country'].value_counts()"
      ],
      "execution_count": null,
      "outputs": [
        {
          "output_type": "execute_result",
          "data": {
            "text/plain": [
              "United States of America    65\n",
              "India                       33\n",
              "Canada                      11\n",
              "United Kingdom               7\n",
              "Brazil                       7\n",
              "Spain                        6\n",
              "Australia                    5\n",
              "Germany                      5\n",
              "Netherlands                  5\n",
              "Philippines                  3\n",
              "South Africa                 2\n",
              "Ireland                      2\n",
              "Indonesia                    2\n",
              "Turkey                       2\n",
              "Russia                       2\n",
              "France                       2\n",
              "Sri Lanka                    2\n",
              "Poland                       2\n",
              "Sweden                       2\n",
              "Mongolia                     2\n",
              "Egypt                        1\n",
              "Colombia                     1\n",
              "Malaysia                     1\n",
              "Serbia                       1\n",
              "Japan                        1\n",
              "Cameroon                     1\n",
              "Pakistan                     1\n",
              "Taiwan                       1\n",
              "Portugal                     1\n",
              "Bangladesh                   1\n",
              "Iceland                      1\n",
              "Ukraine                      1\n",
              "Chile                        1\n",
              "Name: country, dtype: int64"
            ]
          },
          "metadata": {
            "tags": []
          },
          "execution_count": 12
        }
      ]
    },
    {
      "cell_type": "markdown",
      "metadata": {
        "id": "7HsWErVPd7p_"
      },
      "source": [
        "**Which mental health disorder has the highest prevalence in the technology industry?**"
      ]
    },
    {
      "cell_type": "code",
      "metadata": {
        "id": "cJm6CmoFk_tb",
        "colab": {
          "base_uri": "https://localhost:8080/",
          "height": 265
        },
        "outputId": "7960b2ab-52ab-4736-c0cf-47a326843fe2"
      },
      "source": [
        "df.drop(df.iloc[:,13:37], axis=1, inplace=True)\n",
        "df.iloc[:, 12:24].count().sort_values(ascending=False).head().plot.pie(y='mental health disorder has the highest prevalence in the technology industry',autopct=\"%0.1f%%\")"
      ],
      "execution_count": null,
      "outputs": [
        {
          "output_type": "execute_result",
          "data": {
            "text/plain": [
              "<matplotlib.axes._subplots.AxesSubplot at 0x7fe3260f71d0>"
            ]
          },
          "metadata": {
            "tags": []
          },
          "execution_count": 13
        },
        {
          "output_type": "display_data",
          "data": {
            "image/png": "[encoded data removed]",
            "text/plain": [
              "<Figure size 432x288 with 1 Axes>"
            ]
          },
          "metadata": {
            "tags": []
          }
        }
      ]
    },
    {
      "cell_type": "code",
      "metadata": {
        "id": "4523i6mFYLZv",
        "colab": {
          "base_uri": "https://localhost:8080/"
        },
        "outputId": "eefc1036-1831-4914-e489-3dda3c19e991"
      },
      "source": [
        "# Fill in more NaN values\n",
        "column_list = df.isna().sum()[df.isna().sum() > 1].index\n",
        "\n",
        "for column in column_list:\n",
        "    df.loc[:,column].fillna(\"Unknown\",inplace=True)\n",
        "\n",
        "df.isnull().sum().any()"
      ],
      "execution_count": null,
      "outputs": [
        {
          "output_type": "stream",
          "text": [
            "/usr/local/lib/python3.7/dist-packages/pandas/core/series.py:4536: SettingWithCopyWarning: \n",
            "A value is trying to be set on a copy of a slice from a DataFrame\n",
            "\n",
            "See the caveats in the documentation: https://pandas.pydata.org/pandas-docs/stable/user_guide/indexing.html#returning-a-view-versus-a-copy\n",
            "  downcast=downcast,\n",
            "/usr/local/lib/python3.7/dist-packages/pandas/core/frame.py:4327: SettingWithCopyWarning: \n",
            "A value is trying to be set on a copy of a slice from a DataFrame\n",
            "\n",
            "See the caveats in the documentation: https://pandas.pydata.org/pandas-docs/stable/user_guide/indexing.html#returning-a-view-versus-a-copy\n",
            "  downcast=downcast,\n"
          ],
          "name": "stderr"
        },
        {
          "output_type": "execute_result",
          "data": {
            "text/plain": [
              "True"
            ]
          },
          "metadata": {
            "tags": []
          },
          "execution_count": 14
        }
      ]
    },
    {
      "cell_type": "markdown",
      "metadata": {
        "id": "I6i6lWts1crM"
      },
      "source": [
        "**What states have the highest prevalence of mental disorders in the US?**"
      ]
    },
    {
      "cell_type": "code",
      "metadata": {
        "id": "KWOZcjlN0XtL"
      },
      "source": [
        "#selcecting data only for US\n",
        "us_df = df[df['country'] =='United States of America'] "
      ],
      "execution_count": null,
      "outputs": []
    },
    {
      "cell_type": "code",
      "metadata": {
        "id": "32RoDDwKOcoh",
        "colab": {
          "base_uri": "https://localhost:8080/"
        },
        "outputId": "05527ce9-af67-4145-c549-51208ecf03f9"
      },
      "source": [
        "# checking the value count of the unique values in the column\n",
        "us_df['diagnosis_mh'].value_counts()"
      ],
      "execution_count": null,
      "outputs": [
        {
          "output_type": "execute_result",
          "data": {
            "text/plain": [
              "Yes    26\n",
              "Name: diagnosis_mh, dtype: int64"
            ]
          },
          "metadata": {
            "tags": []
          },
          "execution_count": 16
        }
      ]
    },
    {
      "cell_type": "code",
      "metadata": {
        "id": "2zPZPwi7Qrt9",
        "colab": {
          "base_uri": "https://localhost:8080/"
        },
        "outputId": "c55e1497-9665-43e6-d194-cbdaab10f7cc"
      },
      "source": [
        "#What states have the highest prevalence of mental disorders in the US?\n",
        "us_df[us_df['diagnosis_mh'] =='Yes'].groupby('state')['state'].count().sort_values(ascending= False)"
      ],
      "execution_count": null,
      "outputs": [
        {
          "output_type": "execute_result",
          "data": {
            "text/plain": [
              "state\n",
              "New York        5\n",
              "Washington      3\n",
              "Wisconsin       2\n",
              "Illinois        2\n",
              "Georgia         2\n",
              "California      2\n",
              "Utah            1\n",
              "Tennessee       1\n",
              "South Dakota    1\n",
              "Minnesota       1\n",
              "Michigan        1\n",
              "Maryland        1\n",
              "Indiana         1\n",
              "Florida         1\n",
              "Colorado        1\n",
              "Arizona         1\n",
              "Name: state, dtype: int64"
            ]
          },
          "metadata": {
            "tags": []
          },
          "execution_count": 17
        }
      ]
    },
    {
      "cell_type": "code",
      "metadata": {
        "id": "2pnSDiKqaJCA",
        "colab": {
          "base_uri": "https://localhost:8080/",
          "height": 264
        },
        "outputId": "cf2eecb3-7abe-4f0c-a2a0-2bde58181d20"
      },
      "source": [
        "# Ploting the states most prevalent with mental disorders in the US\n",
        "us_df[us_df['diagnosis_mh'] =='Yes'].groupby('state')['state'].count().sort_values(ascending= False).head().plot.pie(y='diagnosis_mh',autopct=\"%0.1f%%\")\n",
        "plt.title('States most prevalent with mental disorders')\n",
        "plt.axis('off')\n",
        "plt.show()"
      ],
      "execution_count": null,
      "outputs": [
        {
          "output_type": "display_data",
          "data": {
            "image/png": "[encoded data removed]",
            "text/plain": [
              "<Figure size 432x288 with 1 Axes>"
            ]
          },
          "metadata": {
            "tags": []
          }
        }
      ]
    },
    {
      "cell_type": "markdown",
      "metadata": {
        "id": "V-UzvT07TvcC"
      },
      "source": [
        "**What gender has been the most affected by mental illness in the US?**"
      ]
    },
    {
      "cell_type": "code",
      "metadata": {
        "id": "uMV48wCxRNq5",
        "colab": {
          "base_uri": "https://localhost:8080/",
          "height": 264
        },
        "outputId": "907400e4-bddd-4931-fddf-6bbf046539d3"
      },
      "source": [
        "us_df[us_df['diagnosis_mh'] =='Yes'].groupby('gender')['gender'].count().sort_values(ascending= False).head().plot.pie(y='diagnosis_mh',autopct=\"%0.1f%%\")\n",
        "plt.title('diagnosed with a mental health disorder')\n",
        "plt.axis('off')\n",
        "plt.show()"
      ],
      "execution_count": null,
      "outputs": [
        {
          "output_type": "display_data",
          "data": {
            "image/png": "[encoded data removed]",
            "text/plain": [
              "<Figure size 432x288 with 1 Axes>"
            ]
          },
          "metadata": {
            "tags": []
          }
        }
      ]
    },
    {
      "cell_type": "markdown",
      "metadata": {
        "id": "j0Dv3hoZiaN0"
      },
      "source": [
        "WOMEN: were 36.6% less likely to be affected by mental illness compared to 65.4% of MALES who were affected\n"
      ]
    },
    {
      "cell_type": "code",
      "metadata": {
        "id": "i2Zrah4QMs3J",
        "colab": {
          "base_uri": "https://localhost:8080/",
          "height": 384
        },
        "outputId": "fcb0b8c4-1c11-4871-8ca0-12015b64a044"
      },
      "source": [
        "plt.figure(figsize = (20,6))\n",
        "plt.subplot(1,2,1)\n",
        "eda_percentage = us_df['gender'].value_counts(normalize = True).rename_axis('gender').reset_index(name = 'Percentage')\n",
        "sns.barplot(x = 'gender', y = 'Percentage', data = eda_percentage.head(10))\n",
        "plt.title('gender of Survey Respondents')\n",
        "plt.subplot(1,2,2)\n",
        "sns.countplot(us_df['gender'], hue = us_df['sought_treatment'])\n",
        "plt.title('Gender of Survey Respondents')\n",
        "plt.show()"
      ],
      "execution_count": null,
      "outputs": [
        {
          "output_type": "stream",
          "text": [
            "/usr/local/lib/python3.7/dist-packages/seaborn/_decorators.py:43: FutureWarning: Pass the following variable as a keyword arg: x. From version 0.12, the only valid positional argument will be `data`, and passing other arguments without an explicit keyword will result in an error or misinterpretation.\n",
            "  FutureWarning\n"
          ],
          "name": "stderr"
        },
        {
          "output_type": "display_data",
          "data": {
            "image/png": "[encoded data removed]",
            "text/plain": [
              "<Figure size 1440x432 with 2 Axes>"
            ]
          },
          "metadata": {
            "tags": [],
            "needs_background": "light"
          }
        }
      ]
    },
    {
      "cell_type": "markdown",
      "metadata": {
        "id": "h6b0Dh0Lig1R"
      },
      "source": [
        "MEN: According to the survey respondents, males were more likely to seek treatment that their female counterparts."
      ]
    },
    {
      "cell_type": "markdown",
      "metadata": {
        "id": "2EbPl7Z6Td2B"
      },
      "source": [
        "**What race has been the most affected by mental illness in the US?**"
      ]
    },
    {
      "cell_type": "code",
      "metadata": {
        "id": "4IWv1lLRRUrA",
        "colab": {
          "base_uri": "https://localhost:8080/",
          "height": 415
        },
        "outputId": "e3c64dd1-7e16-4394-f67d-71f82e93e742"
      },
      "source": [
        "us_df[us_df['diagnosis_mh'] =='Yes'].groupby('race')['race'].count().sort_values(ascending= False).head().plot.bar().set_ylim([0,25])\n",
        "plt.title('Race has been the most affected by mental illness in the US')\n",
        "plt.xlabel(\"Race\")\n",
        "plt.ylabel(\"Frequency\")\n",
        "plt.show()\n"
      ],
      "execution_count": null,
      "outputs": [
        {
          "output_type": "display_data",
          "data": {
            "image/png": "[encoded data removed]",
            "text/plain": [
              "<Figure size 432x288 with 1 Axes>"
            ]
          },
          "metadata": {
            "tags": [],
            "needs_background": "light"
          }
        }
      ]
    },
    {
      "cell_type": "markdown",
      "metadata": {
        "id": "gNtFCPP0ixah"
      },
      "source": [
        "WHITE people were more likely to seek for treatment compared to African American, Asian and other races."
      ]
    },
    {
      "cell_type": "code",
      "metadata": {
        "id": "ZeLIzxDMMVa8",
        "colab": {
          "base_uri": "https://localhost:8080/",
          "height": 287
        },
        "outputId": "a73189d2-c26c-42d3-a85a-d7910b4c8e02"
      },
      "source": [
        "plt.figure(figsize = (18,6))\n",
        "plt.subplot(1,2,1)\n",
        "sns.distplot(us_df['age'], label = 'Skewness : %.2f'%(us_df['age'].skew()))\n",
        "plt.legend(loc = 0, fontsize = 10)\n",
        "plt.title('Distribution for Age of Survey Respondents')\n",
        "plt.subplot(1,2,2)\n",
        "sns.boxplot(x = \"age\", y = \"sought_treatment\", data = us_df)\n",
        "plt.title('Boxplot for Age of Survey Respondents')\n",
        "age = str(us_df['age'].describe().round(2))\n",
        "plt.text(56, 0.80, age)\n",
        "plt.show()"
      ],
      "execution_count": null,
      "outputs": [
        {
          "output_type": "stream",
          "text": [
            "/usr/local/lib/python3.7/dist-packages/seaborn/distributions.py:2557: FutureWarning: `distplot` is a deprecated function and will be removed in a future version. Please adapt your code to use either `displot` (a figure-level function with similar flexibility) or `histplot` (an axes-level function for histograms).\n",
            "  warnings.warn(msg, FutureWarning)\n"
          ],
          "name": "stderr"
        },
        {
          "output_type": "display_data",
          "data": {
            "image/png": "[encoded data removed]",
            "text/plain": [
              "<Figure size 1296x432 with 2 Axes>"
            ]
          },
          "metadata": {
            "tags": [],
            "needs_background": "light"
          }
        }
      ]
    },
    {
      "cell_type": "markdown",
      "metadata": {
        "id": "YkkWdw9DiSei"
      },
      "source": [
        "Individuals averaging 30 - 33 years of AGE are more likely to seek treatment than other ages.\n"
      ]
    },
    {
      "cell_type": "code",
      "metadata": {
        "id": "_D8veUYMQ_zD"
      },
      "source": [
        ""
      ],
      "execution_count": null,
      "outputs": []
    }
  ]
}